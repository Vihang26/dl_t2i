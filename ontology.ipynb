{
  "nbformat": 4,
  "nbformat_minor": 0,
  "metadata": {
    "colab": {
      "provenance": [],
      "toc_visible": true,
      "history_visible": true,
      "authorship_tag": "ABX9TyPYmVfnCUd50TfUkZvkinUn",
      "include_colab_link": true
    },
    "kernelspec": {
      "name": "python3",
      "display_name": "Python 3"
    },
    "language_info": {
      "name": "python"
    }
  },
  "cells": [
    {
      "cell_type": "markdown",
      "metadata": {
        "id": "view-in-github",
        "colab_type": "text"
      },
      "source": [
        "<a href=\"https://colab.research.google.com/github/Vihang26/dl_t2i/blob/dev/ontology.ipynb\" target=\"_parent\"><img src=\"https://colab.research.google.com/assets/colab-badge.svg\" alt=\"Open In Colab\"/></a>"
      ]
    },
    {
      "cell_type": "code",
      "execution_count": 1,
      "metadata": {
        "colab": {
          "base_uri": "https://localhost:8080/"
        },
        "id": "3Myg9zDi9ToJ",
        "outputId": "41b5514d-20d8-44aa-dec1-2ef400ca78af"
      },
      "outputs": [
        {
          "output_type": "stream",
          "name": "stdout",
          "text": [
            "Collecting owlready2\n",
            "  Downloading owlready2-0.44.tar.gz (27.3 MB)\n",
            "\u001b[2K     \u001b[90m━━━━━━━━━━━━━━━━━━━━━━━━━━━━━━━━━━━━━━━━\u001b[0m \u001b[32m27.3/27.3 MB\u001b[0m \u001b[31m45.0 MB/s\u001b[0m eta \u001b[36m0:00:00\u001b[0m\n",
            "\u001b[?25h  Installing build dependencies ... \u001b[?25l\u001b[?25hdone\n",
            "  Getting requirements to build wheel ... \u001b[?25l\u001b[?25hdone\n",
            "  Preparing metadata (pyproject.toml) ... \u001b[?25l\u001b[?25hdone\n",
            "Building wheels for collected packages: owlready2\n",
            "  Building wheel for owlready2 (pyproject.toml) ... \u001b[?25l\u001b[?25hdone\n",
            "  Created wheel for owlready2: filename=owlready2-0.44-cp310-cp310-linux_x86_64.whl size=24075245 sha256=d8bb27ab1bbb2fd328ab368641095790350ffd8a6ecb2a142387d9d09833f9cc\n",
            "  Stored in directory: /root/.cache/pip/wheels/88/e1/04/583b0743b2907f091204baaa0aef9740f5ba5f3d2f6a5aa00d\n",
            "Successfully built owlready2\n",
            "Installing collected packages: owlready2\n",
            "Successfully installed owlready2-0.44\n"
          ]
        }
      ],
      "source": [
        "!pip install owlready2"
      ]
    },
    {
      "cell_type": "code",
      "source": [
        "from owlready2 import *"
      ],
      "metadata": {
        "id": "Z7vR0YGw_N49"
      },
      "execution_count": 2,
      "outputs": []
    },
    {
      "cell_type": "code",
      "source": [
        "onto = get_ontology(\"http://test.org/onto.owl\") # dummy link to store existing local/web-based ontology to the variable \"onto\""
      ],
      "metadata": {
        "id": "pXfiLhk5_Vr_"
      },
      "execution_count": 3,
      "outputs": []
    },
    {
      "cell_type": "code",
      "source": [
        "with onto:\n",
        "\n",
        "  # objects\n",
        "\n",
        "  class Food(Thing):\n",
        "    pass\n",
        "  class Fruit(Food):\n",
        "    pass\n",
        "  class Vegetable(Food):\n",
        "    pass\n",
        "  class Beverage(Food):\n",
        "    pass\n",
        "  class Dish(Food):\n",
        "    pass\n",
        "\n",
        "  class Animal(Thing):\n",
        "    pass\n",
        "  class Land_Animal(Animal):\n",
        "    pass\n",
        "  class Water_Animal(Animal):\n",
        "    pass\n",
        "  class Aerial_Animal(Animal):\n",
        "    pass\n",
        "\n",
        "  class Furniture(Thing):\n",
        "    pass\n",
        "\n",
        "  class Stationery(Thing):\n",
        "    pass\n",
        "\n",
        "  class Vehicle(Thing):\n",
        "    pass\n",
        "  class Two_Wheels(Vehicle):\n",
        "    pass\n",
        "  class Four_Wheels(Vehicle):\n",
        "    pass\n",
        "\n",
        "  class Place(Thing):\n",
        "    pass\n",
        "  class City(Place):\n",
        "    pass\n",
        "  class Country(Place):\n",
        "    pass\n",
        "  class Terrain(Place):\n",
        "    pass\n",
        "  class Ocean(Place):\n",
        "    pass\n",
        "  class River(Place):\n",
        "    pass\n",
        "  class Mountain(Place):\n",
        "    pass\n",
        "  class Building(Place):\n",
        "    pass\n",
        "  class Monument(Place):\n",
        "    pass\n",
        "\n",
        "  class People(Thing):\n",
        "    pass\n",
        "  class Celebrity(People):\n",
        "    pass\n",
        "  class Historical_Figure(People):\n",
        "    pass\n",
        "  class Profession(People):\n",
        "    pass\n",
        "  class Gender(People):\n",
        "    pass\n",
        "  class Race(People):\n",
        "    pass\n",
        "\n",
        "  # properties\n",
        "\n",
        "  class Color(Thing):\n",
        "    pass\n",
        "  class Shape(Thing):\n",
        "    pass\n",
        "  class Size(Thing):\n",
        "    pass\n",
        "  class Taste(Thing):\n",
        "    pass\n",
        "  class Emotion(Thing):\n",
        "    pass"
      ],
      "metadata": {
        "id": "JwE2tNr7Fqa1"
      },
      "execution_count": 5,
      "outputs": []
    },
    {
      "cell_type": "code",
      "source": [
        "# defining role and relationships\n",
        "\n",
        "    class has_color(ObjectProperty):\n",
        "        domain = [Food]\n",
        "        range = [Color]\n",
        "    class has_shape(ObjectProperty):\n",
        "        domain = [Food]\n",
        "        range = [Shape]\n",
        "    class has_size(ObjectProperty):\n",
        "        domain = [Food]\n",
        "        range = [Size]\n",
        "    class has_taste(ObjectProperty):\n",
        "        domain = [Food]\n",
        "        range = [Taste]\n",
        "    class"
      ],
      "metadata": {
        "id": "L_HKimNihepc"
      },
      "execution_count": null,
      "outputs": []
    }
  ]
}